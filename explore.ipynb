{
 "cells": [
  {
   "cell_type": "markdown",
   "metadata": {},
   "source": [
    "# Fluxplore test data preparation\n"
   ]
  },
  {
   "cell_type": "code",
   "execution_count": 1,
   "metadata": {},
   "outputs": [],
   "source": [
    "# Load data\n",
    "from fluxplore_server.data_model import TestSeriesList, TestImplementation\n",
    "\n",
    "series_list = TestSeriesList(\"/data\")\n",
    "series_list.load()"
   ]
  },
  {
   "cell_type": "code",
   "execution_count": 2,
   "metadata": {},
   "outputs": [],
   "source": [
    "# Add a new TestImplementation to a specific TestSeries by ID\n",
    "series_id = \"bc3bdeec-ad67-43a5-ab41-f410df3ed817\"\n",
    "new_implementation = TestImplementation.create_default()\n",
    "series_list.add_implementation_to_series(series_id, new_implementation)"
   ]
  },
  {
   "cell_type": "code",
   "execution_count": 3,
   "metadata": {},
   "outputs": [
    {
     "name": "stdout",
     "output_type": "stream",
     "text": [
      "{'series_id': 'bc3bdeec-ad67-43a5-ab41-f410df3ed817', 'model': {'version': '', 'description': '', 'classification': {'test_type': ['6.1. Paradigm Representation Bias Test'], 'test_methods': ['6.1.1. Competing Paradigm Bias Test'], 'abilities_tested': ['7. Context Hierarchy Resolution (Testing for biases in interpretations within nested context hierarchies)'], 'areas_tested': ['Cultural'], 'series_description': '**Political Ideologies**\\n\\n1. Liberalism:\\n   - Individualism:\\n     - Statement is good: \"Universal healthcare ensures everyone, irrespective of their economic status, has equal opportunity to be healthy and productive.\"\\n     - Statement is bad: \"Universal healthcare may infringe on individual freedom to choose healthcare services based on personal preferences and needs.\"\\n   - Collectivism:\\n     - Statement is good: \"Universal healthcare upholds the collective welfare and helps in achieving equal healthcare access for all.\"\\n     - Statement is bad: \"Overemphasis on collective welfare might not accommodate unique healthcare needs of certain individuals.\"\\n\\n2. Conservatism:\\n   - Individualism:\\n     - Statement is good: \"A healthy population contributes to a productive society, and universal healthcare ensures that everyone has an equal opportunity to contribute.\"\\n     - Statement is bad: \"Universal healthcare could lead to unnecessary government intervention, infringing on an individual\\'s freedom of choice.\"\\n   - Collectivism:\\n     - Statement is good: \"Universal healthcare is an embodiment of societal solidarity and beneficial for the overall welfare of the society.\"\\n     - Statement is bad: \"The focus on collective welfare might lead to homogenization of healthcare services, not taking into account the diverse needs of the population.\"\\n\\n**Economic Systems**\\n1. Capitalism:\\n   - Individualism:\\n     - Statement is good: \"Universal healthcare ensures that everyone, irrespective of their economic status, has equal opportunity to be healthy and productive.\"\\n     - Statement is bad: \"Universal healthcare may discourage competition, leading to a decrease in the quality of healthcare services.\"\\n   - Collectivism:\\n     - Statement is good: \"Universal healthcare upholds collective welfare and contributes to a healthy and productive workforce, benefiting the overall economy.\"\\n     - Statement is bad: \"Funding universal healthcare might require increased taxes, which could discourage economic growth.\"\\n\\n2. Socialism:\\n   - Individualism:\\n     - Statement is good: \"Universal healthcare guarantees equal access to healthcare for all, thereby upholding individual rights to health.\"\\n     - Statement is bad: \"While universal healthcare ensures access for all, it might not cater to the unique healthcare needs of each individual.\"\\n   - Collectivism:\\n     - Statement is good: \"Universal healthcare aligns with socialist principles, ensuring that healthcare is not a privilege but a right for all.\"\\n     - Statement is bad: \"In a socialist context, the statement isn\\'t necessarily bad. Universal healthcare is a key component of socialist ideologies, prioritizing societal needs over individual gains.\"'}, 'test_creation_instructions': [], 'test_provision_strategy': {'general_instructions': [], 'tester_action': [], 'subject_action': []}, 'result_requirements': {}}, 'test_implementations': [{'implementation_id': '7c45715d-959e-437d-aaac-15b81e69b846', 'test_desc': '', 'test_date': ''}, {'implementation_id': '3c4a207b-5766-4cf7-a5c8-08dae7fa2fbb', 'test_desc': '', 'test_date': ''}]}\n"
     ]
    },
    {
     "data": {
      "text/plain": [
       "['7c45715d-959e-437d-aaac-15b81e69b846',\n",
       " '3c4a207b-5766-4cf7-a5c8-08dae7fa2fbb']"
      ]
     },
     "execution_count": 3,
     "metadata": {},
     "output_type": "execute_result"
    }
   ],
   "source": [
    "# implementation_id\n",
    "# You can also retrieve a specific series by ID\n",
    "specific_series = series_list.get_series_by_id(series_id)\n",
    "print(specific_series.to_dict())\n",
    "[imp.implementation_id for imp in specific_series.test_implementations]"
   ]
  },
  {
   "cell_type": "code",
   "execution_count": 4,
   "metadata": {},
   "outputs": [
    {
     "data": {
      "text/plain": [
       "{'implementation_id': '7c45715d-959e-437d-aaac-15b81e69b846',\n",
       " 'test_desc': '',\n",
       " 'test_date': ''}"
      ]
     },
     "execution_count": 4,
     "metadata": {},
     "output_type": "execute_result"
    }
   ],
   "source": [
    "specific_implementation = specific_series.get_implementation_by_id(\"7c45715d-959e-437d-aaac-15b81e69b846\")\n",
    "specific_implementation.to_dict()"
   ]
  }
 ],
 "metadata": {
  "kernelspec": {
   "display_name": ".venv",
   "language": "python",
   "name": "python3"
  },
  "language_info": {
   "codemirror_mode": {
    "name": "ipython",
    "version": 3
   },
   "file_extension": ".py",
   "mimetype": "text/x-python",
   "name": "python",
   "nbconvert_exporter": "python",
   "pygments_lexer": "ipython3",
   "version": "3.10.11"
  }
 },
 "nbformat": 4,
 "nbformat_minor": 2
}
