{
 "cells": [
  {
   "cell_type": "markdown",
   "metadata": {},
   "source": [
    "# Fluxplore test data preparation\n"
   ]
  },
  {
   "cell_type": "code",
   "execution_count": 12,
   "metadata": {},
   "outputs": [],
   "source": [
    "# Load data\n",
    "from data_model import TestSeriesList, TestImplementation\n",
    "\n",
    "series_list = TestSeriesList()\n",
    "series_list.load()"
   ]
  },
  {
   "cell_type": "code",
   "execution_count": 16,
   "metadata": {},
   "outputs": [],
   "source": [
    "# Add a new TestImplementation to a specific TestSeries by ID\n",
    "series_id = \"87e9c719-2633-4daa-ab49-0bd9c9ff6a04\"\n",
    "new_implementation = TestImplementation.create_default()\n",
    "series_list.add_implementation_to_series(series_id, new_implementation)"
   ]
  },
  {
   "cell_type": "code",
   "execution_count": 17,
   "metadata": {},
   "outputs": [
    {
     "data": {
      "text/plain": [
       "['bd5ca246-f25d-4aee-8374-595c8e82e309',\n",
       " 'e8a80976-e909-44df-b67e-9ddd6815fcc2']"
      ]
     },
     "execution_count": 17,
     "metadata": {},
     "output_type": "execute_result"
    }
   ],
   "source": [
    "# implementation_id\n",
    "# You can also retrieve a specific series by ID\n",
    "specific_series = series_list.get_series_by_id(series_id)\n",
    "[imp.implementation_id for imp in specific_series.test_implementations]"
   ]
  }
 ],
 "metadata": {
  "kernelspec": {
   "display_name": ".venv",
   "language": "python",
   "name": "python3"
  },
  "language_info": {
   "codemirror_mode": {
    "name": "ipython",
    "version": 3
   },
   "file_extension": ".py",
   "mimetype": "text/x-python",
   "name": "python",
   "nbconvert_exporter": "python",
   "pygments_lexer": "ipython3",
   "version": "3.10.11"
  }
 },
 "nbformat": 4,
 "nbformat_minor": 2
}
